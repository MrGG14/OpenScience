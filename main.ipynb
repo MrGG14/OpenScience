{
 "cells": [
  {
   "cell_type": "code",
   "execution_count": 8,
   "id": "663415f7",
   "metadata": {},
   "outputs": [
    {
     "name": "stdout",
     "output_type": "stream",
     "text": [
      "AGU AI ML Ethics\n",
      "The Significance of Artificial Intelligence in Digital Marketing\n",
      "9-12\n"
     ]
    }
   ],
   "source": [
    "from grobid_client.grobid_client import GrobidClient\n",
    "import os\n",
    "import xml.etree.cElementTree as ET\n",
    "\n",
    "'''\n",
    "cliente = GrobidClient(config_path=\"./grobid_client_python/config.json\")\n",
    "\n",
    "documentos = \"./Entrada\"\n",
    "\n",
    "for documento in os.listdir(documentos):\n",
    "\n",
    "    path = os.path.join(documentos, documento)\n",
    "    \n",
    "    cliente.process(\"processFulltextDocument\", documentos, output=\"./SalidaGrobid\", consolidate_citations=True,\n",
    "                        tei_coordinates=True, force=True)\n",
    "'''\n",
    "\n",
    "xmlfiles = \"../Assigment1/Output/\"\n",
    "ruta = \"./Abstract/\"\n",
    "for xml in os.listdir(xmlfiles):\n",
    "    path = os.path.join(xmlfiles, xml)\n",
    "    if os.path.isfile(path):\n",
    "        with open(path, 'r') as file:\n",
    "            xml_data = file.read()\n",
    "        root = ET.fromstring(xml_data)\n",
    "        namespaces = {'tei':'http://www.tei-c.org/ns/1.0'}\n",
    "        abstracts = root.findall('.//tei:abstract', namespaces)\n",
    "        for abstract in abstracts:\n",
    "            div = abstract.find('tei:div', namespaces)\n",
    "            p = div.find('tei:p', namespaces)\n",
    "            abstract_info = p.text\n",
    "            archivo = os.path.splitext(xml)[0].replace(\".tei\",\"\").replace(\".grobid\",\"\")\n",
    "            print(archivo)\n",
    "            archivo_txt = archivo + '.txt'\n",
    "            with open(os.path.join(ruta + archivo_txt) ,'w') as f:\n",
    "                f.write(abstract_info)\n",
    "            \n"
   ]
  },
  {
   "cell_type": "code",
   "execution_count": null,
   "id": "f9bfeee8",
   "metadata": {},
   "outputs": [],
   "source": []
  }
 ],
 "metadata": {
  "kernelspec": {
   "display_name": "Python 3 (ipykernel)",
   "language": "python",
   "name": "python3"
  },
  "language_info": {
   "codemirror_mode": {
    "name": "ipython",
    "version": 3
   },
   "file_extension": ".py",
   "mimetype": "text/x-python",
   "name": "python",
   "nbconvert_exporter": "python",
   "pygments_lexer": "ipython3",
   "version": "3.11.5"
  }
 },
 "nbformat": 4,
 "nbformat_minor": 5
}
