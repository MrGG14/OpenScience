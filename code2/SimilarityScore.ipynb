{
 "cells": [
  {
   "cell_type": "code",
   "execution_count": 16,
   "id": "e26e58bf",
   "metadata": {},
   "outputs": [
    {
     "name": "stdout",
     "output_type": "stream",
     "text": [
      "['In an increasingly digitalized world, the utilization of Artificial Intelligence (AI) in digital marketing has emerged as a transformative force, redefining how businesses engage with their audiences and tailor their strategies. This research paper aims to elucidate the pivotal role of AI in enhancing various facets of digital marketing, including personalization, customer insights, campaign optimization, and predictive analysis. By examining case studies and empirical evidence, this paper underscores the advantages of AI-driven digital marketing and its potential to revolutionize the landscape of consumer-business interactions.', \"Artificial Intelligence is making a machine behave in a way that would be intelligent if a human were so behaving. Many industrial sectors have adopted artificial intelligence for the development and customer satisfaction. Banking sectors were lagging back in adopting this intelligence as this sector requires dependence of human workforce to think and decide. Banks are now implementing Artificial intelligence for managing risk, financial analytics and portfolio/investment management. It helps to make decision based on the various data the banks have supplied to the Artificial intelligence device. This is useful for the banks internally and for the clients externally. Most of the work will become digitalized in future. It will decrease the work load and it will save various processing cost. There is lot of advantages with the adaption of Artificial intelligence. At the same time, Technology may replace human intelligence where machine may overtake human being. They will also face some problem regarding unemployment; responsibility of the transaction, decision taken by the artificial intelligence won't be fully trusted, and many more. This paper discusses about the various opportunities and challenges a banking sectors may face due to artificial intelligence.\", '❖ Always provide the interpretation of the model and findings, including areas of uncertainty or limitations.']\n",
      "La similitud entre el documento 1 y el documento 2 es sim 0.038616202771663666\n",
      "La similitud entre el documento 1 y el documento 3 es sim 0.00525562884286046\n",
      "La similitud entre el documento 2 y el documento 3 es sim 0.0\n",
      "[(0, 1.0), (1, 0.038616203), (2, 0.005255629)]\n",
      "La similitud entre el documento 2 y el documento 3 es 0.0\n"
     ]
    }
   ],
   "source": [
    "from gensim import corpora, models, similarities\n",
    "import os\n",
    "\n",
    "ruta = \"./Abstract/\"\n",
    "\n",
    "resumenes = []\n",
    "\n",
    "for archivo in os.listdir(ruta):\n",
    "    with open(os.path.join(ruta, archivo), 'r') as f:\n",
    "        resumenes.append(f.read())\n",
    "        \n",
    "print(resumenes)\n",
    "\n",
    "textos = [resumen.split() for resumen in resumenes]\n",
    "\n",
    "diccionario = corpora.Dictionary(textos)\n",
    "\n",
    "corpus=[diccionario.doc2bow(texto) for texto in textos]\n",
    "\n",
    "tfidf = models.TfidfModel(corpus)\n",
    "\n",
    "index = similarities.MatrixSimilarity(tfidf[corpus])\n",
    "\n",
    "for i in range(len(textos)):\n",
    "    for j in range(i+1, len(textos)):\n",
    "        vec_i = diccionario.doc2bow(textos[i])\n",
    "        vec_j = diccionario.doc2bow(textos[j])\n",
    "        sim_ij = index[tfidf[vec_i]][j]\n",
    "        print(f'La similitud entre el documento {i+1} y el documento {j+1} es sim {sim_ij}')\n"
   ]
  },
  {
   "cell_type": "code",
   "execution_count": null,
   "id": "b1dee6ed",
   "metadata": {},
   "outputs": [],
   "source": []
  }
 ],
 "metadata": {
  "kernelspec": {
   "display_name": "Python 3 (ipykernel)",
   "language": "python",
   "name": "python3"
  },
  "language_info": {
   "codemirror_mode": {
    "name": "ipython",
    "version": 3
   },
   "file_extension": ".py",
   "mimetype": "text/x-python",
   "name": "python",
   "nbconvert_exporter": "python",
   "pygments_lexer": "ipython3",
   "version": "3.11.5"
  }
 },
 "nbformat": 4,
 "nbformat_minor": 5
}
