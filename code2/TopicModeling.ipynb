{
 "cells": [
  {
   "cell_type": "code",
   "execution_count": 12,
   "id": "068ebd89",
   "metadata": {},
   "outputs": [
    {
     "name": "stdout",
     "output_type": "stream",
     "text": [
      "[['increasingly', 'digitalized', 'utilization', 'artificial', 'intelligence', 'digital', 'marketing', 'emerged', 'transformative', 'redefining', 'businesses', 'engage', 'audiences', 'tailor', 'research', 'paper', 'aims', 'elucidate', 'pivotal', 'role', 'ai', 'enhancing', 'various', 'facets', 'digital', 'including', 'customer', 'campaign', 'predictive', 'examining', 'case', 'studies', 'empirical', 'paper', 'underscores', 'advantages', 'digital', 'marketing', 'potential', 'revolutionize', 'landscape'], ['artificial', 'intelligence', 'making', 'machine', 'behave', 'way', 'intelligent', 'human', 'many', 'industrial', 'sectors', 'adopted', 'artificial', 'intelligence', 'development', 'customer', 'banking', 'sectors', 'lagging', 'back', 'adopting', 'intelligence', 'sector', 'requires', 'dependence', 'human', 'workforce', 'think', 'banks', 'now', 'implementing', 'artificial', 'intelligence', 'managing', 'financial', 'analytics', 'helps', 'make', 'decision', 'based', 'various', 'data', 'banks', 'supplied', 'artificial', 'intelligence', 'useful', 'banks', 'internally', 'clients', 'work', 'will', 'become', 'digitalized', 'will', 'decrease', 'work', 'load', 'will', 'save', 'various', 'processing', 'lot', 'advantages', 'adaption', 'artificial', 'technology', 'may', 'replace', 'human', 'intelligence', 'machine', 'may', 'overtake', 'human', 'will', 'also', 'face', 'problem', 'regarding', 'responsibility', 'decision', 'taken', 'artificial', 'intelligence', 'fully', 'many', 'paper', 'discusses', 'various', 'opportunities', 'challenges', 'banking', 'sectors', 'may', 'face', 'due', 'artificial'], ['always', 'provide', 'interpretation', 'model', 'including', 'areas', 'uncertainty']]\n"
     ]
    }
   ],
   "source": [
    "from gensim import corpora\n",
    "import gensim\n",
    "import os\n",
    "from stop_words import get_stop_words\n",
    "\n",
    "ruta = \"./Abstract/\"\n",
    "\n",
    "resumenes = []\n",
    "\n",
    "stop_words = get_stop_words('english')\n",
    "\n",
    "for archivo in os.listdir(ruta):\n",
    "    with open(os.path.join(ruta, archivo), 'r') as f:\n",
    "        resumenes.append(f.read())\n",
    "\n",
    "titles_lower = [[word for word in resumen.lower().split() if word.isalpha() and word not in stop_words] for resumen in resumenes]\n",
    "print (titles_lower)"
   ]
  },
  {
   "cell_type": "code",
   "execution_count": 13,
   "id": "8b2e878a",
   "metadata": {},
   "outputs": [
    {
     "name": "stdout",
     "output_type": "stream",
     "text": [
      "(0, '0.010*\"artificial\" + 0.010*\"intelligence\" + 0.010*\"human\" + 0.010*\"various\" + 0.010*\"will\"')\n",
      "(1, '0.063*\"intelligence\" + 0.063*\"artificial\" + 0.037*\"will\" + 0.037*\"human\" + 0.028*\"various\"')\n",
      "(2, '0.010*\"including\" + 0.010*\"digital\" + 0.010*\"paper\" + 0.010*\"businesses\" + 0.010*\"various\"')\n",
      "(3, '0.053*\"including\" + 0.053*\"areas\" + 0.053*\"always\" + 0.053*\"model\" + 0.053*\"interpretation\"')\n",
      "(4, '0.010*\"including\" + 0.010*\"areas\" + 0.010*\"always\" + 0.010*\"model\" + 0.010*\"interpretation\"')\n",
      "(5, '0.010*\"artificial\" + 0.010*\"intelligence\" + 0.010*\"human\" + 0.010*\"will\" + 0.010*\"various\"')\n",
      "(6, '0.057*\"digital\" + 0.039*\"paper\" + 0.039*\"marketing\" + 0.021*\"digitalized\" + 0.021*\"customer\"')\n"
     ]
    }
   ],
   "source": [
    "dictionary = corpora.Dictionary(titles_lower)\n",
    "doc_term_matrix = [dictionary.doc2bow(title) for title in titles_lower]\n",
    "\n",
    "LDA = gensim.models.ldamodel.LdaModel\n",
    "\n",
    "lda_model = LDA(corpus = doc_term_matrix, id2word=dictionary, num_topics=7, random_state=100, chunksize=1000, passes=50)\n",
    "\n",
    "temas = lda_model.print_topics(num_words=5)\n",
    "for tema in temas:\n",
    "    print(tema)"
   ]
  },
  {
   "cell_type": "code",
   "execution_count": null,
   "id": "6e45a2f5",
   "metadata": {},
   "outputs": [],
   "source": []
  }
 ],
 "metadata": {
  "kernelspec": {
   "display_name": "Python 3 (ipykernel)",
   "language": "python",
   "name": "python3"
  },
  "language_info": {
   "codemirror_mode": {
    "name": "ipython",
    "version": 3
   },
   "file_extension": ".py",
   "mimetype": "text/x-python",
   "name": "python",
   "nbconvert_exporter": "python",
   "pygments_lexer": "ipython3",
   "version": "3.11.5"
  }
 },
 "nbformat": 4,
 "nbformat_minor": 5
}
